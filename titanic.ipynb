{
 "cells": [
  {
   "cell_type": "markdown",
   "id": "d79038a7-384f-4e2c-bda6-f4b26f86f789",
   "metadata": {},
   "source": [
    "<h2>Titanic survival prediction<h2\\>"
   ]
  },
  {
   "cell_type": "markdown",
   "id": "13fca211-9e6a-4ab2-98eb-2628d0b7a5c6",
   "metadata": {},
   "source": [
    "<h2>import library  and needed data <h2\\> "
   ]
  },
  {
   "cell_type": "code",
   "execution_count": 1,
   "id": "8dfd1013-17b2-4bc0-bb40-a28f3583472e",
   "metadata": {},
   "outputs": [],
   "source": [
    "import pandas as pd\n",
    "import numpy as np\n"
   ]
  },
  {
   "cell_type": "code",
   "execution_count": 2,
   "id": "eacfa501-732b-4996-a76e-da249bef3c45",
   "metadata": {},
   "outputs": [
    {
     "data": {
      "text/html": [
       "<div>\n",
       "<style scoped>\n",
       "    .dataframe tbody tr th:only-of-type {\n",
       "        vertical-align: middle;\n",
       "    }\n",
       "\n",
       "    .dataframe tbody tr th {\n",
       "        vertical-align: top;\n",
       "    }\n",
       "\n",
       "    .dataframe thead th {\n",
       "        text-align: right;\n",
       "    }\n",
       "</style>\n",
       "<table border=\"1\" class=\"dataframe\">\n",
       "  <thead>\n",
       "    <tr style=\"text-align: right;\">\n",
       "      <th></th>\n",
       "      <th>PassengerId</th>\n",
       "      <th>Survived</th>\n",
       "      <th>Pclass</th>\n",
       "      <th>Name</th>\n",
       "      <th>Sex</th>\n",
       "      <th>Age</th>\n",
       "      <th>SibSp</th>\n",
       "      <th>Parch</th>\n",
       "      <th>Ticket</th>\n",
       "      <th>Fare</th>\n",
       "      <th>Cabin</th>\n",
       "      <th>Embarked</th>\n",
       "    </tr>\n",
       "  </thead>\n",
       "  <tbody>\n",
       "    <tr>\n",
       "      <th>0</th>\n",
       "      <td>1</td>\n",
       "      <td>0</td>\n",
       "      <td>3</td>\n",
       "      <td>Braund, Mr. Owen Harris</td>\n",
       "      <td>male</td>\n",
       "      <td>22.0</td>\n",
       "      <td>1</td>\n",
       "      <td>0</td>\n",
       "      <td>A/5 21171</td>\n",
       "      <td>7.2500</td>\n",
       "      <td>NaN</td>\n",
       "      <td>S</td>\n",
       "    </tr>\n",
       "    <tr>\n",
       "      <th>1</th>\n",
       "      <td>2</td>\n",
       "      <td>1</td>\n",
       "      <td>1</td>\n",
       "      <td>Cumings, Mrs. John Bradley (Florence Briggs Th...</td>\n",
       "      <td>female</td>\n",
       "      <td>38.0</td>\n",
       "      <td>1</td>\n",
       "      <td>0</td>\n",
       "      <td>PC 17599</td>\n",
       "      <td>71.2833</td>\n",
       "      <td>C85</td>\n",
       "      <td>C</td>\n",
       "    </tr>\n",
       "    <tr>\n",
       "      <th>2</th>\n",
       "      <td>3</td>\n",
       "      <td>1</td>\n",
       "      <td>3</td>\n",
       "      <td>Heikkinen, Miss. Laina</td>\n",
       "      <td>female</td>\n",
       "      <td>26.0</td>\n",
       "      <td>0</td>\n",
       "      <td>0</td>\n",
       "      <td>STON/O2. 3101282</td>\n",
       "      <td>7.9250</td>\n",
       "      <td>NaN</td>\n",
       "      <td>S</td>\n",
       "    </tr>\n",
       "    <tr>\n",
       "      <th>3</th>\n",
       "      <td>4</td>\n",
       "      <td>1</td>\n",
       "      <td>1</td>\n",
       "      <td>Futrelle, Mrs. Jacques Heath (Lily May Peel)</td>\n",
       "      <td>female</td>\n",
       "      <td>35.0</td>\n",
       "      <td>1</td>\n",
       "      <td>0</td>\n",
       "      <td>113803</td>\n",
       "      <td>53.1000</td>\n",
       "      <td>C123</td>\n",
       "      <td>S</td>\n",
       "    </tr>\n",
       "    <tr>\n",
       "      <th>4</th>\n",
       "      <td>5</td>\n",
       "      <td>0</td>\n",
       "      <td>3</td>\n",
       "      <td>Allen, Mr. William Henry</td>\n",
       "      <td>male</td>\n",
       "      <td>35.0</td>\n",
       "      <td>0</td>\n",
       "      <td>0</td>\n",
       "      <td>373450</td>\n",
       "      <td>8.0500</td>\n",
       "      <td>NaN</td>\n",
       "      <td>S</td>\n",
       "    </tr>\n",
       "    <tr>\n",
       "      <th>5</th>\n",
       "      <td>6</td>\n",
       "      <td>0</td>\n",
       "      <td>3</td>\n",
       "      <td>Moran, Mr. James</td>\n",
       "      <td>male</td>\n",
       "      <td>NaN</td>\n",
       "      <td>0</td>\n",
       "      <td>0</td>\n",
       "      <td>330877</td>\n",
       "      <td>8.4583</td>\n",
       "      <td>NaN</td>\n",
       "      <td>Q</td>\n",
       "    </tr>\n",
       "  </tbody>\n",
       "</table>\n",
       "</div>"
      ],
      "text/plain": [
       "   PassengerId  Survived  Pclass  \\\n",
       "0            1         0       3   \n",
       "1            2         1       1   \n",
       "2            3         1       3   \n",
       "3            4         1       1   \n",
       "4            5         0       3   \n",
       "5            6         0       3   \n",
       "\n",
       "                                                Name     Sex   Age  SibSp  \\\n",
       "0                            Braund, Mr. Owen Harris    male  22.0      1   \n",
       "1  Cumings, Mrs. John Bradley (Florence Briggs Th...  female  38.0      1   \n",
       "2                             Heikkinen, Miss. Laina  female  26.0      0   \n",
       "3       Futrelle, Mrs. Jacques Heath (Lily May Peel)  female  35.0      1   \n",
       "4                           Allen, Mr. William Henry    male  35.0      0   \n",
       "5                                   Moran, Mr. James    male   NaN      0   \n",
       "\n",
       "   Parch            Ticket     Fare Cabin Embarked  \n",
       "0      0         A/5 21171   7.2500   NaN        S  \n",
       "1      0          PC 17599  71.2833   C85        C  \n",
       "2      0  STON/O2. 3101282   7.9250   NaN        S  \n",
       "3      0            113803  53.1000  C123        S  \n",
       "4      0            373450   8.0500   NaN        S  \n",
       "5      0            330877   8.4583   NaN        Q  "
      ]
     },
     "execution_count": 2,
     "metadata": {},
     "output_type": "execute_result"
    }
   ],
   "source": [
    "data=pd.read_csv(\"train.csv\")\n",
    "test=pd.read_csv(\"test.csv\")\n",
    "test_ids=test[\"PassengerId\"]\n",
    "data.head(6)"
   ]
  },
  {
   "cell_type": "markdown",
   "id": "5744e4f6-5cbf-4212-973a-623dcfc7f3f6",
   "metadata": {},
   "source": [
    "<h3>Removing useless data:<h3\\>\n",
    "    <li>Ticket<li\\>\n",
    "    <li>Cabin<li\\>\n",
    "    <li>Name<li\\>   \n",
    "    <li>PassengerId<li\\>"
   ]
  },
  {
   "cell_type": "code",
   "execution_count": 3,
   "id": "a144e474-4b36-4fe1-a624-3364b207cdef",
   "metadata": {},
   "outputs": [],
   "source": [
    "data=data.drop(['PassengerId','Ticket','Cabin','Name'],axis=1)\n",
    "test=test.drop(['PassengerId','Ticket','Cabin','Name'],axis=1)"
   ]
  },
  {
   "cell_type": "markdown",
   "id": "7d100b76-1bdc-489e-91f4-2380256b07b6",
   "metadata": {},
   "source": [
    "<h3>correction of the targeted columns for data  <h3\\>"
   ]
  },
  {
   "cell_type": "code",
   "execution_count": 4,
   "id": "a85bc3b7-83a4-4356-9319-8646d60c01c7",
   "metadata": {},
   "outputs": [],
   "source": [
    "cols1=[\"SibSp\",\"Parch\",\"Fare\"]\n",
    "for col in cols1 : \n",
    "    data[col].fillna(data[col].median(),inplace=True)\n",
    "cols2=[\"SibSp\",\"Parch\",\"Fare\",\"Age\"]  \n",
    "for col in cols2 : \n",
    "    test[col].fillna(data[col].median(),inplace=True)\n",
    "    "
   ]
  },
  {
   "cell_type": "code",
   "execution_count": 5,
   "id": "e3d1f649-0fc6-471d-94dd-c86440360a09",
   "metadata": {},
   "outputs": [],
   "source": [
    "x1,x2,x3=[],[],[]\n",
    "index3=[]\n",
    "index1=[]\n",
    "index2=[]\n",
    "for e in range(data.shape[0]):\n",
    "        if data[\"Pclass\"][e]==3: \n",
    "                x3.append(data[\"Age\"][e])\n",
    "                index3.append(e)\n",
    "for e in range(data.shape[0]):\n",
    "        if data[\"Pclass\"][e]==2: \n",
    "                x2.append(data[\"Age\"][e])\n",
    "                index2.append(e)                \n",
    "\n",
    "for e in range(data.shape[0]):\n",
    "        if data[\"Pclass\"][e]==1: \n",
    "                x1.append(data[\"Age\"][e])\n",
    "                index1.append(e)                \n",
    "                \n",
    "                \n",
    "df_Ages3=pd.DataFrame({'Age3': x3,'index3':index3})  \n",
    "df_Ages2=pd.DataFrame({'Age2':x2,'index2':index2})\n",
    "df_Ages1=pd.DataFrame({'Age1':x1,'index1':index1})\n",
    "df_Ages3['Age3'].fillna(df_Ages3['Age3'].mean(),inplace=True) \n",
    "df_Ages2['Age2'].fillna(df_Ages2['Age2'].mean(),inplace=True)\n",
    "df_Ages1['Age1'].fillna(df_Ages1['Age1'].mean(),inplace=True)\n"
   ]
  },
  {
   "cell_type": "code",
   "execution_count": 6,
   "id": "684cd91e-7997-4c79-b1db-d66c91c2907d",
   "metadata": {},
   "outputs": [],
   "source": [
    "array1=df_Ages1['Age1'].to_numpy()\n",
    "array2=df_Ages2['Age2'].to_numpy()         \n",
    "array3=df_Ages3['Age3; '].to_numpy()\n",
    "a,b,c=0,0,0\n",
    "\n",
    "#corection for ages for first class\n",
    "for e in range(data.shape[0]):\n",
    "    if data['Pclass'][e]==1 : \n",
    "        a=index1.index(e)\n",
    "        data.loc[e, 'Age'] =array1[a]\n",
    "#corection for ages for second class        \n",
    "for e in range(data.shape[0]):\n",
    "    if data['Pclass'][e]==2 : \n",
    "        a=index2.index(e)\n",
    "        data.loc[e, 'Age'] =array2[a]\n",
    "#corection for ages for third class        \n",
    "for e in range(data.shape[0]):\n",
    "    if data['Pclass'][e]==3 : \n",
    "        a=index3.index(e)\n",
    "        data.loc[e, 'Age'] =array3[a]  \n",
    "        \n",
    "    "
   ]
  },
  {
   "cell_type": "code",
   "execution_count": 7,
   "id": "0294e42f-3c0b-4f68-b561-9dbfbf37330e",
   "metadata": {},
   "outputs": [
    {
     "data": {
      "text/html": [
       "<div>\n",
       "<style scoped>\n",
       "    .dataframe tbody tr th:only-of-type {\n",
       "        vertical-align: middle;\n",
       "    }\n",
       "\n",
       "    .dataframe tbody tr th {\n",
       "        vertical-align: top;\n",
       "    }\n",
       "\n",
       "    .dataframe thead th {\n",
       "        text-align: right;\n",
       "    }\n",
       "</style>\n",
       "<table border=\"1\" class=\"dataframe\">\n",
       "  <thead>\n",
       "    <tr style=\"text-align: right;\">\n",
       "      <th></th>\n",
       "      <th>Survived</th>\n",
       "      <th>Pclass</th>\n",
       "      <th>Sex</th>\n",
       "      <th>Age</th>\n",
       "      <th>SibSp</th>\n",
       "      <th>Parch</th>\n",
       "      <th>Fare</th>\n",
       "      <th>Embarked</th>\n",
       "    </tr>\n",
       "  </thead>\n",
       "  <tbody>\n",
       "    <tr>\n",
       "      <th>0</th>\n",
       "      <td>0</td>\n",
       "      <td>3</td>\n",
       "      <td>male</td>\n",
       "      <td>22.00000</td>\n",
       "      <td>1</td>\n",
       "      <td>0</td>\n",
       "      <td>7.2500</td>\n",
       "      <td>S</td>\n",
       "    </tr>\n",
       "    <tr>\n",
       "      <th>1</th>\n",
       "      <td>1</td>\n",
       "      <td>1</td>\n",
       "      <td>female</td>\n",
       "      <td>38.00000</td>\n",
       "      <td>1</td>\n",
       "      <td>0</td>\n",
       "      <td>71.2833</td>\n",
       "      <td>C</td>\n",
       "    </tr>\n",
       "    <tr>\n",
       "      <th>2</th>\n",
       "      <td>1</td>\n",
       "      <td>3</td>\n",
       "      <td>female</td>\n",
       "      <td>26.00000</td>\n",
       "      <td>0</td>\n",
       "      <td>0</td>\n",
       "      <td>7.9250</td>\n",
       "      <td>S</td>\n",
       "    </tr>\n",
       "    <tr>\n",
       "      <th>3</th>\n",
       "      <td>1</td>\n",
       "      <td>1</td>\n",
       "      <td>female</td>\n",
       "      <td>35.00000</td>\n",
       "      <td>1</td>\n",
       "      <td>0</td>\n",
       "      <td>53.1000</td>\n",
       "      <td>S</td>\n",
       "    </tr>\n",
       "    <tr>\n",
       "      <th>4</th>\n",
       "      <td>0</td>\n",
       "      <td>3</td>\n",
       "      <td>male</td>\n",
       "      <td>35.00000</td>\n",
       "      <td>0</td>\n",
       "      <td>0</td>\n",
       "      <td>8.0500</td>\n",
       "      <td>S</td>\n",
       "    </tr>\n",
       "    <tr>\n",
       "      <th>5</th>\n",
       "      <td>0</td>\n",
       "      <td>3</td>\n",
       "      <td>male</td>\n",
       "      <td>25.14062</td>\n",
       "      <td>0</td>\n",
       "      <td>0</td>\n",
       "      <td>8.4583</td>\n",
       "      <td>Q</td>\n",
       "    </tr>\n",
       "  </tbody>\n",
       "</table>\n",
       "</div>"
      ],
      "text/plain": [
       "   Survived  Pclass     Sex       Age  SibSp  Parch     Fare Embarked\n",
       "0         0       3    male  22.00000      1      0   7.2500        S\n",
       "1         1       1  female  38.00000      1      0  71.2833        C\n",
       "2         1       3  female  26.00000      0      0   7.9250        S\n",
       "3         1       1  female  35.00000      1      0  53.1000        S\n",
       "4         0       3    male  35.00000      0      0   8.0500        S\n",
       "5         0       3    male  25.14062      0      0   8.4583        Q"
      ]
     },
     "execution_count": 7,
     "metadata": {},
     "output_type": "execute_result"
    }
   ],
   "source": [
    "data.head(6)"
   ]
  },
  {
   "cell_type": "code",
   "execution_count": 8,
   "id": "1718995b-840d-40ec-a9de-f03f72cdfa08",
   "metadata": {},
   "outputs": [
    {
     "name": "stdout",
     "output_type": "stream",
     "text": [
      "['female' 'male']\n",
      "['C' 'Q' 'S']\n"
     ]
    }
   ],
   "source": [
    "from sklearn import preprocessing \n",
    "le=preprocessing.LabelEncoder()\n",
    "cols=['Sex','Embarked']\n",
    "for col  in cols :\n",
    "    data[col]=le.fit_transform(data[col])\n",
    "    test[col]=le.fit_transform(test[col])\n",
    "    print(le.classes_)"
   ]
  },
  {
   "cell_type": "code",
   "execution_count": 9,
   "id": "1b8e191e-ba0c-4409-b600-aca333eaf9ec",
   "metadata": {},
   "outputs": [
    {
     "data": {
      "text/html": [
       "<div>\n",
       "<style scoped>\n",
       "    .dataframe tbody tr th:only-of-type {\n",
       "        vertical-align: middle;\n",
       "    }\n",
       "\n",
       "    .dataframe tbody tr th {\n",
       "        vertical-align: top;\n",
       "    }\n",
       "\n",
       "    .dataframe thead th {\n",
       "        text-align: right;\n",
       "    }\n",
       "</style>\n",
       "<table border=\"1\" class=\"dataframe\">\n",
       "  <thead>\n",
       "    <tr style=\"text-align: right;\">\n",
       "      <th></th>\n",
       "      <th>Survived</th>\n",
       "      <th>Pclass</th>\n",
       "      <th>Sex</th>\n",
       "      <th>Age</th>\n",
       "      <th>SibSp</th>\n",
       "      <th>Parch</th>\n",
       "      <th>Fare</th>\n",
       "      <th>Embarked</th>\n",
       "    </tr>\n",
       "  </thead>\n",
       "  <tbody>\n",
       "    <tr>\n",
       "      <th>0</th>\n",
       "      <td>0</td>\n",
       "      <td>3</td>\n",
       "      <td>1</td>\n",
       "      <td>22.0</td>\n",
       "      <td>1</td>\n",
       "      <td>0</td>\n",
       "      <td>7.2500</td>\n",
       "      <td>2</td>\n",
       "    </tr>\n",
       "    <tr>\n",
       "      <th>1</th>\n",
       "      <td>1</td>\n",
       "      <td>1</td>\n",
       "      <td>0</td>\n",
       "      <td>38.0</td>\n",
       "      <td>1</td>\n",
       "      <td>0</td>\n",
       "      <td>71.2833</td>\n",
       "      <td>0</td>\n",
       "    </tr>\n",
       "    <tr>\n",
       "      <th>2</th>\n",
       "      <td>1</td>\n",
       "      <td>3</td>\n",
       "      <td>0</td>\n",
       "      <td>26.0</td>\n",
       "      <td>0</td>\n",
       "      <td>0</td>\n",
       "      <td>7.9250</td>\n",
       "      <td>2</td>\n",
       "    </tr>\n",
       "  </tbody>\n",
       "</table>\n",
       "</div>"
      ],
      "text/plain": [
       "   Survived  Pclass  Sex   Age  SibSp  Parch     Fare  Embarked\n",
       "0         0       3    1  22.0      1      0   7.2500         2\n",
       "1         1       1    0  38.0      1      0  71.2833         0\n",
       "2         1       3    0  26.0      0      0   7.9250         2"
      ]
     },
     "execution_count": 9,
     "metadata": {},
     "output_type": "execute_result"
    }
   ],
   "source": [
    "data.head(3)\n"
   ]
  },
  {
   "cell_type": "code",
   "execution_count": 10,
   "id": "9d35e77d-bdde-49b5-bd8f-9b801c26f488",
   "metadata": {},
   "outputs": [],
   "source": [
    "from sklearn.linear_model import LogisticRegression\n",
    "from sklearn.model_selection import train_test_split"
   ]
  },
  {
   "cell_type": "code",
   "execution_count": 11,
   "id": "6fca3670-267b-4590-8642-f240185f254c",
   "metadata": {},
   "outputs": [],
   "source": [
    "y=data[\"Survived\"]\n",
    "x=data.drop(\"Survived\",axis=1)\n",
    "x_train,x_val ,y_train,y_val =train_test_split(x,y,test_size=0.2,random_state=42)"
   ]
  },
  {
   "cell_type": "code",
   "execution_count": 12,
   "id": "ffad351d-0fb5-4cac-8f2a-9745fb487f7e",
   "metadata": {},
   "outputs": [],
   "source": [
    "clf=LogisticRegression(random_state = 0,max_iter=1000).fit(x_train,y_train)"
   ]
  },
  {
   "cell_type": "code",
   "execution_count": 13,
   "id": "33c0250c-b20c-4888-9298-aafbb9d9ae3f",
   "metadata": {},
   "outputs": [
    {
     "data": {
      "text/plain": [
       "0.8156424581005587"
      ]
     },
     "execution_count": 13,
     "metadata": {},
     "output_type": "execute_result"
    }
   ],
   "source": [
    "predictions=clf.predict(x_val)\n",
    "from sklearn.metrics import accuracy_score \n",
    "accuracy_score(y_val,predictions)"
   ]
  },
  {
   "cell_type": "code",
   "execution_count": 14,
   "id": "d45fc59f-deff-49c2-913d-063a12850b33",
   "metadata": {},
   "outputs": [],
   "source": [
    "submission_preds=clf.predict(test)"
   ]
  },
  {
   "cell_type": "code",
   "execution_count": 15,
   "id": "538607b3-88c4-4c09-abfc-4129f2da0f67",
   "metadata": {},
   "outputs": [],
   "source": [
    "df=pd.DataFrame({\"passengerId\":test_ids.values,\n",
    "                \"Survived\":submission_preds,\n",
    "                })"
   ]
  },
  {
   "cell_type": "code",
   "execution_count": 16,
   "id": "b8e569a9-d12f-458f-8824-83249043e9aa",
   "metadata": {},
   "outputs": [],
   "source": [
    "df.to_csv(\"submission.csv\",index=False)"
   ]
  },
  {
   "cell_type": "code",
   "execution_count": null,
   "id": "bb6075b3-4464-40c2-b166-c3189bb693aa",
   "metadata": {},
   "outputs": [],
   "source": []
  }
 ],
 "metadata": {
  "kernelspec": {
   "display_name": "Python 3 (ipykernel)",
   "language": "python",
   "name": "python3"
  },
  "language_info": {
   "codemirror_mode": {
    "name": "ipython",
    "version": 3
   },
   "file_extension": ".py",
   "mimetype": "text/x-python",
   "name": "python",
   "nbconvert_exporter": "python",
   "pygments_lexer": "ipython3",
   "version": "3.8.0"
  }
 },
 "nbformat": 4,
 "nbformat_minor": 5
}
